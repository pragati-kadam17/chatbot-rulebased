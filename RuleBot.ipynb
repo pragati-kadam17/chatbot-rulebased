{
  "nbformat": 4,
  "nbformat_minor": 0,
  "metadata": {
    "colab": {
      "provenance": [],
      "authorship_tag": "ABX9TyOaX7IPUcpSTGlswhUNu9eu",
      "include_colab_link": true
    },
    "kernelspec": {
      "name": "python3",
      "display_name": "Python 3"
    },
    "language_info": {
      "name": "python"
    }
  },
  "cells": [
    {
      "cell_type": "markdown",
      "metadata": {
        "id": "view-in-github",
        "colab_type": "text"
      },
      "source": [
        "<a href=\"https://colab.research.google.com/github/pragati-kadam17/chatbot-rulebased/blob/main/RuleBot.ipynb\" target=\"_parent\"><img src=\"https://colab.research.google.com/assets/colab-badge.svg\" alt=\"Open In Colab\"/></a>"
      ]
    },
    {
      "cell_type": "code",
      "source": [
        "import re\n",
        "import random"
      ],
      "metadata": {
        "id": "OmiuD60iiVvx"
      },
      "execution_count": 1,
      "outputs": []
    },
    {
      "cell_type": "code",
      "execution_count": 4,
      "metadata": {
        "colab": {
          "base_uri": "https://localhost:8080/"
        },
        "id": "WGMwYZa5iR7u",
        "outputId": "1dbf994c-6503-48de-c8de-6c9703a5c208"
      },
      "outputs": [
        {
          "output_type": "stream",
          "name": "stdout",
          "text": [
            "what is your name?\n",
            "pp\n",
            "Hipp, I am Rule-Bot. Will you help me learn about your planet?\n",
            "yes\n",
            "why are you here?tell me about session\n",
            "session was cool.\n",
            "tell me about planet\n",
            "Pls tell me more.\n",
            "why\n",
            "Pls tell me more.\n",
            "why\n",
            "Pls tell me more.\n",
            "about intellipat\n",
            "Why do you say that?\n",
            "quit\n",
            "Okay,have a nice earth day\n"
          ]
        }
      ],
      "source": [
        "class RuleBot:\n",
        "\n",
        "  ###potential negative responses\n",
        "  negative_responses=(\"no\",\"nope\",\"nah\",\"naw\",\"not a chance\",\"sorry\")\n",
        "\n",
        "  ###Exit conversation keywords\n",
        "  exit_commands=(\"quit\",\"pause\",\"exit\",\"goodbye\",\"bye\",\"later\")\n",
        "\n",
        "  ### Random starter questions\n",
        "  random_questions=(\n",
        "      \"why are you here?\",\n",
        "      \"Are there many humans like you?\",\n",
        "      \"Is there intelligent life on this planet?\",\n",
        "      \"Does earth have a leader?\",\n",
        "      \"What planets have you visited?\",\n",
        "      \"What technology do you have on this planet?\"\n",
        "  )\n",
        "\n",
        "  def __init__(self):\n",
        "    self.alienbabble={'describe_planet_intent': r'.*\\s*your-planet.*',\n",
        "                      'answer_why_intent': r'why\\sare.*',\n",
        "                      'about_intellipat': r'.*\\s*intellipaat',\n",
        "                      'about_session':r'.*\\s*session'\n",
        "                      }\n",
        "\n",
        "  def greet(self):\n",
        "    self.name=input(\"what is your name?\\n\")\n",
        "    will_help=input(f\"Hi{self.name}, I am Rule-Bot. Will you help me learn about your planet?\\n\")\n",
        "    if will_help in self.negative_responses:\n",
        "      print(\"Ok,have a nice Earth day!\")\n",
        "      return\n",
        "    self.chat()\n",
        "\n",
        "  def make_exit(self,reply):\n",
        "    for command in self.exit_commands:\n",
        "      if reply==command:\n",
        "        print(\"Okay,have a nice earth day\")\n",
        "        return True\n",
        "\n",
        "  def chat(self):\n",
        "    reply=input(random.choice(self.random_questions)).lower()\n",
        "    while not self.make_exit(reply):\n",
        "      reply=input(self.match_reply(reply))\n",
        "\n",
        "  def match_reply(self,reply):\n",
        "    for key, value in self.alienbabble.items():\n",
        "      intent=key\n",
        "      regex_pattern=value\n",
        "      found_match=re.match(regex_pattern,reply)\n",
        "      if found_match and intent == 'describe_planet_intent':\n",
        "        return self.describe_planet_intent()\n",
        "      elif found_match and intent == 'answer_why_intent':\n",
        "        return self.answer_why_intent()\n",
        "      elif found_match and intent == 'about_intellipat':\n",
        "        return self.about_intellipat()\n",
        "      elif found_match and intent == 'about_session':\n",
        "        return self.about_session()\n",
        "    if not found_match:\n",
        "      return self.no_match_intent()\n",
        "\n",
        "  def describe_planet_intent(self):\n",
        "    responses=(\"My planet is a utopia of diverse organisms and species.\\n\",\n",
        "               \"I am from Opidipus,the capital od WAYward Galaxies.\\n\")\n",
        "    return random.choice(responses)\n",
        "\n",
        "\n",
        "  def answer_why_intent(self):\n",
        "    responses=(\"I come in peace.I have come to collect data about ur planet.\\n\",\n",
        "               \"I heard the coffe is good.\\n\")\n",
        "    return random.choice(responses)\n",
        "\n",
        "  def about_intellipat(self):\n",
        "    responses=(\"Intellipat is worlds largest educational community.\\n\",\n",
        "               \"Intellipat is where your career and skill grows\\n\")\n",
        "    return random.choice(responses)\n",
        "\n",
        "  def about_session(self):\n",
        "    responses=(\"session is on \\n\",\n",
        "               \"session was cool.\\n\")\n",
        "    return random.choice(responses)\n",
        "  \n",
        "  def no_match_intent(self):\n",
        "    responses=(\"Pls tell me more.\\n\",\"Tell me more.\\n\",\n",
        "               \"Why do you say that?\\n\",\"I see.Can you elaborate.\\n\",\"Interesting.Can you tell me more.\\n\",\n",
        "               \"I see.How do you think?\\n\", \"Why?\\n\",\n",
        "               \"How do you think I feel when you say that?\\n\"\n",
        "               )\n",
        "    return random.choice(responses)\n",
        "\n",
        "AlienBot=RuleBot()\n",
        "AlienBot.greet()\n",
        "\n"
      ]
    }
  ]
}